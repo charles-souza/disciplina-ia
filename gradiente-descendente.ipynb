{
 "cells": [
  {
   "cell_type": "markdown",
   "metadata": {
    "id": "m8A0j0hX8kD1"
   },
   "source": [
    "###**GRADIENTE DESCENDENTE**"
   ]
  },
  {
   "cell_type": "code",
   "execution_count": 70,
   "metadata": {
    "id": "M53Zkxfd9-UJ"
   },
   "outputs": [],
   "source": [
    "import numpy as np\n",
    "import matplotlib.pyplot as plt\n",
    "import math\n",
    "\n",
    "%matplotlib inline"
   ]
  },
  {
   "cell_type": "markdown",
   "metadata": {
    "id": "O03zR4m2-bWS"
   },
   "source": [
    "#DADOS"
   ]
  },
  {
   "cell_type": "code",
   "execution_count": 71,
   "metadata": {
    "id": "vE5Yt6A0-ePh"
   },
   "outputs": [],
   "source": [
    "X = [0.5, 2.2, 2.0]\n",
    "y = [2.0, 2.5, 1.4]"
   ]
  },
  {
   "cell_type": "markdown",
   "metadata": {
    "id": "TxOdp2vC-qCF"
   },
   "source": [
    "#TAXA DE APRENDIZADO (velocidade de descida)"
   ]
  },
  {
   "cell_type": "code",
   "execution_count": 72,
   "metadata": {
    "id": "zywysn5g-8j7"
   },
   "outputs": [],
   "source": [
    "alpha = 0.01"
   ]
  },
  {
   "cell_type": "markdown",
   "metadata": {
    "id": "h2obqYDF_KOC"
   },
   "source": [
    "#VALORES INICIAIS PARA W0 e W1"
   ]
  },
  {
   "cell_type": "code",
   "execution_count": 73,
   "metadata": {
    "id": "bFWhbjve_TB2"
   },
   "outputs": [],
   "source": [
    "w0 = 0.1\n",
    "w1 = 0.1"
   ]
  },
  {
   "cell_type": "markdown",
   "metadata": {
    "id": "P-PpbBhm_gRX"
   },
   "source": [
    "#DEFININDO A HIPÓTESE"
   ]
  },
  {
   "cell_type": "code",
   "execution_count": 74,
   "metadata": {
    "id": "vmlkOdmz_m6d"
   },
   "outputs": [],
   "source": [
    "def y_hat(X, w0, w1):\n",
    "  return w0 + w1*X"
   ]
  },
  {
   "cell_type": "code",
   "execution_count": 75,
   "metadata": {
    "colab": {
     "base_uri": "https://localhost:8080/",
     "height": 34
    },
    "id": "T6t8tivp_zmw",
    "outputId": "1a583d2f-66c4-403f-e4e3-ff984b693c5c"
   },
   "outputs": [
    {
     "data": {
      "text/plain": [
       "0.25"
      ]
     },
     "execution_count": 75,
     "metadata": {},
     "output_type": "execute_result"
    }
   ],
   "source": [
    "## realizando uma predição ainda com custo alto\n",
    "y_hat(1.5, w0,w1)"
   ]
  },
  {
   "cell_type": "markdown",
   "metadata": {
    "id": "Wwoh5YeyAtLP"
   },
   "source": [
    "#**FUNÇÃO PARA PLOTAR PONTOS E REGRESSÃO**"
   ]
  },
  {
   "cell_type": "code",
   "execution_count": 76,
   "metadata": {
    "id": "IX96ZmgZBA2Z"
   },
   "outputs": [],
   "source": [
    "def plot_line(X, y, w0, w1):\n",
    "  x_values = [i for i in range(int(min(X))-1, int(max(X))+2)]\n",
    "  y_values = [y_hat(x, w0, w1) for x in x_values]\n",
    "  plt.plot(x_values, y_values, 'r')\n",
    "  plt.plot(X,y, 'bo')"
   ]
  },
  {
   "cell_type": "code",
   "execution_count": 77,
   "metadata": {
    "colab": {
     "base_uri": "https://localhost:8080/",
     "height": 265
    },
    "id": "duz0A3TfCBeh",
    "outputId": "1b9bc585-b908-4fb9-fac9-2e193d582e46"
   },
   "outputs": [
    {
     "data": {
      "image/png": "[encoded data removed]",
      "text/plain": [
       "<Figure size 432x288 with 1 Axes>"
      ]
     },
     "metadata": {
      "needs_background": "light"
     },
     "output_type": "display_data"
    }
   ],
   "source": [
    "plot_line(X,y,w0,w1)"
   ]
  },
  {
   "cell_type": "markdown",
   "metadata": {
    "id": "DzV1I2fdZVKe"
   },
   "source": [
    "#**FUNÇÃO MSE (Média do erro ao quadrado)**"
   ]
  },
  {
   "cell_type": "code",
   "execution_count": 78,
   "metadata": {
    "id": "2FirAbJ_Za5M"
   },
   "outputs": [],
   "source": [
    "def MSE (X, y, w0, w1):\n",
    "  custo = 0\n",
    "  m = float(len(X))\n",
    "  for i in range(0, len(X)):\n",
    "    custo += (y_hat(X[i], w0, w1)-y[i])**2\n",
    "    \n",
    "  return custo/m"
   ]
  },
  {
   "cell_type": "code",
   "execution_count": 79,
   "metadata": {
    "colab": {
     "base_uri": "https://localhost:8080/",
     "height": 34
    },
    "id": "D7ABrpnPaUy3",
    "outputId": "e93958d7-c206-4944-b3b8-e437b1e7b37f"
   },
   "outputs": [
    {
     "data": {
      "text/plain": [
       "3.1282999999999994"
      ]
     },
     "execution_count": 79,
     "metadata": {},
     "output_type": "execute_result"
    }
   ],
   "source": [
    "MSE(X,y,w0,w1)"
   ]
  },
  {
   "cell_type": "markdown",
   "metadata": {
    "id": "JXbBtiXGboWJ"
   },
   "source": [
    "#**GRADIENTE DESCENDENTE STEP**"
   ]
  },
  {
   "cell_type": "code",
   "execution_count": 80,
   "metadata": {
    "id": "WDQJ3MHYbx5u"
   },
   "outputs": [],
   "source": [
    "def gradient_descent_step(w0, w1, X, y, alpha):\n",
    "\n",
    "  erro_w0 = 0\n",
    "  erro_w1 = 0\n",
    "  m = float(len(X))\n",
    "\n",
    "  for i in range(0, len(X)):\n",
    "    erro_w0 += y_hat(X[i], w0, w1) -y[i]\n",
    "    erro_w1 += (y_hat(X[i], w0, w1) - y[i]) * X[i]\n",
    "\n",
    "  new_w0 = w0 - alpha * (1/m) * erro_w0\n",
    "  new_w1 = w1 - alpha * (1/m) * erro_w1\n",
    "\n",
    "  return new_w0, new_w1"
   ]
  },
  {
   "cell_type": "code",
   "execution_count": 81,
   "metadata": {
    "id": "B6bFj4cfc8p2"
   },
   "outputs": [],
   "source": [
    "w0, w1 = gradient_descent_step(w0, w1, X, y, alpha)"
   ]
  },
  {
   "cell_type": "code",
   "execution_count": 82,
   "metadata": {
    "colab": {
     "base_uri": "https://localhost:8080/",
     "height": 34
    },
    "id": "kcyBywYXdHFv",
    "outputId": "8d9ea032-36a7-4941-eb11-661740e98210"
   },
   "outputs": [
    {
     "name": "stdout",
     "output_type": "stream",
     "text": [
      "w0=0.11710000000000001, w1=0.12640333333333334\n"
     ]
    }
   ],
   "source": [
    "print(\"w0={}, w1={}\".format(w0,w1))"
   ]
  },
  {
   "cell_type": "markdown",
   "metadata": {
    "id": "Qy5c7pbLd8Ps"
   },
   "source": [
    "#**GRADIENTE DESCENDENTE LOOP**"
   ]
  },
  {
   "cell_type": "code",
   "execution_count": 83,
   "metadata": {
    "id": "C4qM-tnfdTnd"
   },
   "outputs": [],
   "source": [
    "epoch = 800"
   ]
  },
  {
   "cell_type": "code",
   "execution_count": 84,
   "metadata": {
    "id": "LfVmsk-ReHsD"
   },
   "outputs": [],
   "source": [
    "def gradient_descent(w0, w1, X, y, alpha, epoch):\n",
    "  custo = np.zeros(epoch)\n",
    "  for i in range(epoch):\n",
    "    w0, w1 = gradient_descent_step(w0, w1, X, y, alpha)\n",
    "    custo[i] = MSE(X,y,w0,w1)\n",
    "\n",
    "  return w0, w1, custo"
   ]
  },
  {
   "cell_type": "code",
   "execution_count": 85,
   "metadata": {
    "id": "-H6NzEVbevl3"
   },
   "outputs": [],
   "source": [
    "w0, w1, custo = gradient_descent(w0, w1, X, y, alpha, epoch)"
   ]
  },
  {
   "cell_type": "markdown",
   "metadata": {
    "id": "8QgCJU10fEnq"
   },
   "source": [
    "#**PLOTANDO O CUSTO**"
   ]
  },
  {
   "cell_type": "code",
   "execution_count": 86,
   "metadata": {
    "colab": {
     "base_uri": "https://localhost:8080/",
     "height": 312
    },
    "id": "vrJJBxuLfC2n",
    "outputId": "b369bcb5-f62a-43fc-bb9e-dd4a63aa50dc"
   },
   "outputs": [
    {
     "data": {
      "text/plain": [
       "Text(0.5, 1.0, 'MSE vs. Epoch')"
      ]
     },
     "execution_count": 86,
     "metadata": {},
     "output_type": "execute_result"
    },
    {
     "data": {
      "image/png": "[encoded data removed]",
      "text/plain": [
       "<Figure size 432x288 with 1 Axes>"
      ]
     },
     "metadata": {
      "needs_background": "light"
     },
     "output_type": "display_data"
    }
   ],
   "source": [
    "fig, ax = plt.subplots()\n",
    "ax.plot(np.arange(epoch), custo, 'r')\n",
    "ax.set_xlabel('Iterações')\n",
    "ax.set_ylabel('Custo')\n",
    "ax.set_title('MSE vs. Epoch')"
   ]
  },
  {
   "cell_type": "markdown",
   "metadata": {
    "id": "JYMehLm0fmGM"
   },
   "source": [
    "#**PLOTANDO A HIPÓTESE OTIMIZADA**"
   ]
  },
  {
   "cell_type": "code",
   "execution_count": 87,
   "metadata": {
    "colab": {
     "base_uri": "https://localhost:8080/",
     "height": 265
    },
    "id": "MnXMcJ3vfgZw",
    "outputId": "527dea5d-ddbb-4f33-8312-ee2b6e01d9e0"
   },
   "outputs": [
    {
     "data": {
      "image/png": "[encoded data removed]",
      "text/plain": [
       "<Figure size 432x288 with 1 Axes>"
      ]
     },
     "metadata": {
      "needs_background": "light"
     },
     "output_type": "display_data"
    }
   ],
   "source": [
    "plot_line(X,y, w0, w1)"
   ]
  },
  {
   "cell_type": "markdown",
   "metadata": {
    "id": "O9sby6iBgg8h"
   },
   "source": [
    "#**REALIZANDO UMA PREVISÃO**"
   ]
  },
  {
   "cell_type": "code",
   "execution_count": 88,
   "metadata": {
    "colab": {
     "base_uri": "https://localhost:8080/",
     "height": 34
    },
    "id": "ng0u0OqXfuTN",
    "outputId": "95172662-8f48-4b65-af5d-229e60ccf1d3"
   },
   "outputs": [
    {
     "data": {
      "text/plain": [
       "1.8841287670370264"
      ]
     },
     "execution_count": 88,
     "metadata": {},
     "output_type": "execute_result"
    }
   ],
   "source": [
    "y_hat(1.5, w0, w1)"
   ]
  },
  {
   "cell_type": "code",
   "execution_count": 89,
   "metadata": {
    "colab": {
     "base_uri": "https://localhost:8080/",
     "height": 34
    },
    "id": "pHlZDnlIgo6i",
    "outputId": "cd4a634d-3da9-487e-e7c0-2801b6e29d2e"
   },
   "outputs": [
    {
     "name": "stdout",
     "output_type": "stream",
     "text": [
      "w0=1.4797891950670756, w1=0.2695597146466338\n"
     ]
    }
   ],
   "source": [
    "print(\"w0={}, w1={}\".format(w0,w1))"
   ]
  },
  {
   "cell_type": "code",
   "execution_count": 90,
   "metadata": {
    "colab": {
     "base_uri": "https://localhost:8080/",
     "height": 34
    },
    "id": "FJnBu69qhL10",
    "outputId": "2e1e67ab-a513-481e-cab5-679231f61021"
   },
   "outputs": [
    {
     "data": {
      "text/plain": [
       "1.8841287670370264"
      ]
     },
     "execution_count": 90,
     "metadata": {},
     "output_type": "execute_result"
    }
   ],
   "source": [
    "w0 + w1*1.5"
   ]
  },
  {
   "cell_type": "code",
   "execution_count": null,
   "metadata": {
    "id": "D5I4D4bRhOA6"
   },
   "outputs": [],
   "source": []
  }
 ],
 "metadata": {
  "colab": {
   "collapsed_sections": [],
   "name": "Gradiente Descendente.ipynb",
   "provenance": []
  },
  "kernelspec": {
   "display_name": "Python 3",
   "language": "python",
   "name": "python3"
  },
  "language_info": {
   "codemirror_mode": {
    "name": "ipython",
    "version": 3
   },
   "file_extension": ".py",
   "mimetype": "text/x-python",
   "name": "python",
   "nbconvert_exporter": "python",
   "pygments_lexer": "ipython3",
   "version": "3.7.3"
  }
 },
 "nbformat": 4,
 "nbformat_minor": 4
}
